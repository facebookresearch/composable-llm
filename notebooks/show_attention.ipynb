{
 "cells": [
  {
   "cell_type": "code",
   "execution_count": 1,
   "metadata": {},
   "outputs": [],
   "source": [
    "%load_ext autoreload\n",
    "%autoreload 2"
   ]
  },
  {
   "cell_type": "code",
   "execution_count": 2,
   "metadata": {},
   "outputs": [
    {
     "name": "stdout",
     "output_type": "stream",
     "text": [
      "/home/vivc/.local/share/texlive/2022/bin/x86_64-linux/pdflatex\n"
     ]
    }
   ],
   "source": [
    "import subprocess\n",
    "import matplotlib.pyplot as plt\n",
    "from matplotlib import rc\n",
    "import numpy as np\n",
    "import torch\n",
    "from cot.data import BinaryCopy, Parity\n",
    "from cot.config import CHECK_DIR\n",
    "from cot.models import TransformerConfig, Transformer\n",
    "\n",
    "WIDTH = 5.5            # inches (from ICML style file)\n",
    "HEIGHT = 5.5 / 1.5     # golden ratio\n",
    "\n",
    "\n",
    "rc('font', family='serif', size=8)\n",
    "usetex = not subprocess.run(['which', 'pdflatex']).returncode\n",
    "rc('text', usetex=usetex)\n",
    "if usetex:\n",
    "    rc('text.latex', preamble=r'\\usepackage{times}')"
   ]
  },
  {
   "cell_type": "markdown",
   "metadata": {},
   "source": [
    "Looking at the evaluation metrics"
   ]
  },
  {
   "cell_type": "code",
   "execution_count": 3,
   "metadata": {},
   "outputs": [],
   "source": [
    "check_dir = CHECK_DIR / 'a14aa716-0a1b-48dd-8c5d-4a0b785e4843'\n",
    "# check_dir = CHECK_DIR / 'de8d90eb-7d5d-4a97-8a00-e58d418da722'\n",
    "checkpoint = torch.load(check_dir / 'model.pth', map_location='cpu')\n",
    "\n",
    "timestamps = checkpoint['timestamps']\n",
    "ind = timestamps != -1\n",
    "timestamps = timestamps[ind]\n",
    "\n",
    "meaning = checkpoint['meaning']\n",
    "evals = checkpoint['evals'][ind]\n",
    "\n",
    "eval_dim = evals.shape[1] // 2\n",
    "train_evals = evals[:, :eval_dim]\n",
    "test_evals = evals[:, eval_dim:]"
   ]
  },
  {
   "cell_type": "code",
   "execution_count": 4,
   "metadata": {},
   "outputs": [],
   "source": [
    "min_len = 8\n",
    "n_len = 32\n",
    "nd_meaning = np.array(meaning)\n",
    "res = np.empty((2, n_len - min_len), dtype=float)\n",
    "for i, eval_prefix in enumerate(['attn0_peaky_thres', 'attn1_peaky_thres']):\n",
    "    for j, length in enumerate(range(min_len, n_len)):\n",
    "        eval_name = f\"{eval_prefix}_{length}\"\n",
    "\n",
    "        ind = np.argmax(np.array(meaning) == eval_name)\n",
    "\n",
    "        train_res = train_evals[-1, ind]\n",
    "        test_res = test_evals[-1, ind]\n",
    "        res[i, j] = test_res\n",
    "res = res.mean(axis=0)"
   ]
  },
  {
   "cell_type": "code",
   "execution_count": 5,
   "metadata": {},
   "outputs": [
    {
     "name": "stdout",
     "output_type": "stream",
     "text": [
      "[0.9375     0.94444444 0.95       0.95454545 0.95833333 0.96153846\n",
      " 0.96428571 0.96666667 0.96875    0.97058824 0.97222222 0.97368421\n",
      " 0.975      0.97619048 0.97727273 0.97826087 0.97916667 0.98\n",
      " 0.98076923 0.98148148 0.98214286 0.98275862 0.98333333 0.98387097]\n"
     ]
    }
   ],
   "source": [
    "print(res)"
   ]
  },
  {
   "cell_type": "markdown",
   "metadata": {},
   "source": [
    "Looking at the model attention maps"
   ]
  },
  {
   "cell_type": "code",
   "execution_count": 6,
   "metadata": {},
   "outputs": [],
   "source": [
    "token_emb = checkpoint['model_state_dict']['embeddings.token_emb.weight'].cpu()\n",
    "pos_emb = checkpoint['model_state_dict']['embeddings.pos_emb.weight'].cpu()"
   ]
  },
  {
   "cell_type": "code",
   "execution_count": 7,
   "metadata": {},
   "outputs": [],
   "source": [
    "lengths = list(np.arange(n_len) + 1)\n",
    "\n",
    "problem = 'parity'\n",
    "if problem == 'binary-copy':\n",
    "    testset = BinaryCopy()\n",
    "elif problem == 'parity':\n",
    "    testset = Parity()\n",
    "testset.set_data(lengths, data_type=\"test\")"
   ]
  },
  {
   "cell_type": "code",
   "execution_count": 8,
   "metadata": {},
   "outputs": [],
   "source": [
    "config = TransformerConfig(\n",
    "    vocab_size=torch.max(testset.data).item() + 1,\n",
    "    emb_dim=128,\n",
    "    pos_emb=True,\n",
    "    seq_len=len(testset[0]),\n",
    "    emb_dropout=0,\n",
    "    n_head=1,\n",
    "    n_layer=2,\n",
    ")\n",
    "\n",
    "model = Transformer(config)\n",
    "model.load_state_dict(checkpoint[\"model_state_dict\"])\n",
    "# model.to(device=device)\n",
    "model.eval()\n",
    "\n",
    "i = -2000\n",
    "sequence = testset.data[i:i + 1]\n",
    "# sequence = sequence.to(device=device, dtype=torch.long)\n",
    "\n",
    "with torch.no_grad():\n",
    "    logits, attentions = model(sequence, verbose=True)\n",
    "attn0 = attentions[0, 0, 0].cpu()\n",
    "attn1 = attentions[1, 0, 0].cpu()"
   ]
  },
  {
   "cell_type": "code",
   "execution_count": 9,
   "metadata": {},
   "outputs": [
    {
     "data": {
      "image/png": "[encoded data removed]",
      "text/plain": [
       "<Figure size 275x183.333 with 2 Axes>"
      ]
     },
     "metadata": {},
     "output_type": "display_data"
    }
   ],
   "source": [
    "fig, axes = plt.subplots(1, 2, figsize=(.5 * WIDTH, .5 * HEIGHT))\n",
    "axes[0].imshow(attn0)\n",
    "axes[1].imshow(attn1 > .5)\n",
    "axes[0].set_title('First attention map')\n",
    "axes[1].set_title('Second attention map')\n",
    "axes[0].set_xlabel('Key tokens')\n",
    "axes[1].set_xlabel('Key tokens')\n",
    "axes[0].set_ylabel('Query token')\n",
    "axes[0].set_yticks([])\n",
    "axes[1].yaxis.tick_right()\n",
    "fig.savefig('attention_map.pdf', bbox_inches=\"tight\")"
   ]
  },
  {
   "cell_type": "markdown",
   "metadata": {},
   "source": [
    "Let us now focus on some training dynamics curve."
   ]
  },
  {
   "cell_type": "code",
   "execution_count": 10,
   "metadata": {},
   "outputs": [],
   "source": [
    "check_dir = CHECK_DIR / '590d57e0-c357-450b-a16e-1b5ef14bd1ba'\n",
    "checkpoint = torch.load(check_dir / 'model.pth', map_location='cpu')\n",
    "\n",
    "timestamps = checkpoint['timestamps']\n",
    "ind = timestamps != -1\n",
    "timestamps = timestamps[ind]\n",
    "\n",
    "meaning = checkpoint['meaning']\n",
    "evals = checkpoint['evals'][ind]\n",
    "\n",
    "eval_dim = evals.shape[1] // 2\n",
    "train_evals = evals[:, :eval_dim]\n",
    "test_evals = evals[:, eval_dim:]"
   ]
  },
  {
   "cell_type": "code",
   "execution_count": 11,
   "metadata": {},
   "outputs": [
    {
     "data": {
      "image/png": "[encoded data removed]",
      "text/plain": [
       "<Figure size 275x128.333 with 2 Axes>"
      ]
     },
     "metadata": {},
     "output_type": "display_data"
    }
   ],
   "source": [
    "i = 100\n",
    "fig, axes = plt.subplots(1, 2, figsize=(.5 * WIDTH, .35 * HEIGHT))\n",
    "axes[0].plot(timestamps[:i], train_evals[:i, :n_len:3])\n",
    "axes[1].plot(timestamps[:i], test_evals[:i, :n_len:3])\n",
    "axes[0].set_title('Train accuracy')\n",
    "axes[1].set_title('Test accuracy')\n",
    "axes[0].set_xlabel('Epochs')\n",
    "axes[1].set_xlabel('Epochs')\n",
    "axes[0].set_ylabel('Accuracy')\n",
    "axes[0].set_yticks([])\n",
    "axes[1].yaxis.tick_right()\n",
    "fig.savefig('evals.pdf', bbox_inches=\"tight\")"
   ]
  },
  {
   "cell_type": "code",
   "execution_count": null,
   "metadata": {},
   "outputs": [],
   "source": []
  }
 ],
 "metadata": {
  "kernelspec": {
   "display_name": "llm",
   "language": "python",
   "name": "python3"
  },
  "language_info": {
   "codemirror_mode": {
    "name": "ipython",
    "version": 3
   },
   "file_extension": ".py",
   "mimetype": "text/x-python",
   "name": "python",
   "nbconvert_exporter": "python",
   "pygments_lexer": "ipython3",
   "version": "3.12.3"
  },
  "orig_nbformat": 4
 },
 "nbformat": 4,
 "nbformat_minor": 2
}
