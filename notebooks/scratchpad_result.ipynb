{
 "cells": [
  {
   "cell_type": "code",
   "execution_count": 1,
   "metadata": {},
   "outputs": [],
   "source": [
    "%load_ext autoreload\n",
    "%autoreload 2"
   ]
  },
  {
   "cell_type": "code",
   "execution_count": 61,
   "metadata": {},
   "outputs": [],
   "source": [
    "import json\n",
    "import subprocess\n",
    "from pathlib import Path\n",
    "import matplotlib.pyplot as plt\n",
    "import numpy as np\n",
    "import torch\n",
    "from cot.data import BinaryCopy, Parity\n",
    "from cot.config import CHECK_DIR\n",
    "from cot.models import TransformerConfig, Transformer"
   ]
  },
  {
   "cell_type": "code",
   "execution_count": 72,
   "metadata": {},
   "outputs": [],
   "source": [
    "all_configs = []\n",
    "with open(CHECK_DIR / 'parity.jsonl', 'r') as f:\n",
    "    json_str = f.read()\n",
    "    json_objs = json_str.split('}\\n')\n",
    "    for json_obj in json_objs:\n",
    "        if json_obj:\n",
    "            all_configs.append(json.loads(json_obj + '}'))"
   ]
  },
  {
   "cell_type": "code",
   "execution_count": 74,
   "metadata": {},
   "outputs": [
    {
     "name": "stdout",
     "output_type": "stream",
     "text": [
      "learning_rate=1.0, batch_size=4096\n",
      "3e-01, 0e+00, 0e+00\n",
      "learning_rate=0.001, batch_size=256\n",
      "4e-01, 1e+00, 1e+00\n",
      "learning_rate=0.0003, batch_size=256\n",
      "1e+00, 1e+00, 1e+00\n",
      "learning_rate=0.003, batch_size=256\n",
      "6e-02, 2e-01, 2e-01\n",
      "learning_rate=0.001, batch_size=64\n",
      "1e-01, 1e+00, 1e+00\n",
      "learning_rate=0.0003, batch_size=64\n",
      "8e-01, 1e+00, 1e+00\n",
      "learning_rate=0.1, batch_size=64\n",
      "7e-02, 0e+00, 0e+00\n",
      "learning_rate=0.003, batch_size=64\n"
     ]
    },
    {
     "name": "stdout",
     "output_type": "stream",
     "text": [
      "4e-01, 1e-03, 1e-03\n",
      "learning_rate=1.0, batch_size=64\n",
      "0e+00, 0e+00, 0e+00\n",
      "learning_rate=0.01, batch_size=4096\n",
      "2e-02, 0e+00, 0e+00\n",
      "learning_rate=0.01, batch_size=64\n",
      "2e-01, 0e+00, 0e+00\n",
      "learning_rate=0.1, batch_size=4096\n",
      "8e-03, 0e+00, 0e+00\n",
      "learning_rate=0.0003, batch_size=4096\n",
      "8e-01, 1e+00, 1e+00\n",
      "learning_rate=0.003, batch_size=4096\n",
      "1e-01, 7e-01, 7e-01\n",
      "learning_rate=0.001, batch_size=4096\n",
      "5e-01, 1e+00, 1e+00\n",
      "learning_rate=0.01, batch_size=1024\n",
      "0e+00, 0e+00, 0e+00\n",
      "learning_rate=1.0, batch_size=256\n",
      "2e-03, 0e+00, 0e+00\n",
      "learning_rate=0.01, batch_size=256\n",
      "0e+00, 0e+00, 0e+00\n",
      "learning_rate=0.1, batch_size=256\n",
      "0e+00, 0e+00, 0e+00\n",
      "learning_rate=0.0003, batch_size=1024\n",
      "9e-01, 1e+00, 1e+00\n",
      "learning_rate=0.003, batch_size=1024\n",
      "4e-01, 9e-04, 9e-04\n",
      "learning_rate=0.1, batch_size=1024\n",
      "3e-02, 0e+00, 0e+00\n",
      "learning_rate=0.001, batch_size=1024\n",
      "5e-01, 1e+00, 1e+00\n",
      "learning_rate=0.003, batch_size=2048\n",
      "4e-02, 8e-05, 8e-05\n",
      "learning_rate=1.0, batch_size=2048\n",
      "0e+00, 0e+00, 0e+00\n",
      "learning_rate=0.0003, batch_size=2048\n",
      "9e-01, 1e+00, 1e+00\n",
      "learning_rate=0.01, batch_size=2048\n",
      "1e-01, 0e+00, 0e+00\n",
      "learning_rate=0.001, batch_size=2048\n",
      "5e-01, 1e+00, 1e+00\n",
      "learning_rate=0.1, batch_size=2048\n",
      "3e-01, 0e+00, 0e+00\n",
      "learning_rate=1.0, batch_size=1024\n",
      "0e+00, 0e+00, 0e+00\n"
     ]
    }
   ],
   "source": [
    "for config in all_configs:\n",
    "    data_dir = Path(config['data_dir'])\n",
    "    problem = config['problem']\n",
    "    n_len = int(config['n_len'])\n",
    "    split_probas = float(config['split_probas'])\n",
    "    n_data_per_len = int(config['n_data_per_len'])\n",
    "    zipf_offset = float(config['zipf_offset'])\n",
    "    zipf_coef = float(config['zipf_coef'])\n",
    "    emb_dim = int(config['emb_dim'])\n",
    "    emb_dropout = float(config['emb_dropout'])\n",
    "    n_head = int(config['n_head'])\n",
    "    n_layer = int(config['n_layer'])\n",
    "    n_epochs = int(config['n_epochs'])\n",
    "    batch_size = int(config['batch_size'])\n",
    "    learning_rate = float(config['learning_rate'])\n",
    "    check_dir = Path(config['check_dir'])\n",
    "    eval_freq = int(config['eval_freq'])\n",
    "    checkpoint_freq = int(config['checkpoint_freq'])\n",
    "    overwrite_checkpoint = bool(config['overwrite_checkpoint'])\n",
    "    load_checkpoint = bool(config['load_checkpoint'])\n",
    "\n",
    "    print(f\"{learning_rate=}, {batch_size=}\")\n",
    "\n",
    "    checkpoint = torch.load(check_dir / 'model.pth')\n",
    "\n",
    "    timestamps = checkpoint['timestamps']\n",
    "    ind = timestamps != -1\n",
    "    timestamps = timestamps[ind]\n",
    "\n",
    "    meaning = checkpoint['meaning']\n",
    "    evals = checkpoint['evals'][ind]\n",
    "\n",
    "    eval_dim = evals.shape[1] // 2\n",
    "    train_evals = evals[:, :eval_dim]\n",
    "    test_evals = evals[:, eval_dim:]\n",
    "\n",
    "    min_len = 8\n",
    "    nd_meaning = np.array(meaning)\n",
    "    res = np.empty((2, n_len + 1 - min_len), dtype=float)\n",
    "    for i, eval_prefix in enumerate(['attn0_peaky_thres', 'attn1_peaky_thres']):\n",
    "        for j, length in enumerate(range(min_len, n_len+1)):\n",
    "            eval_name = f\"{eval_prefix}_{length}\"\n",
    "\n",
    "            ind = np.argmax(np.array(meaning) == eval_name)\n",
    "\n",
    "            train_res = train_evals[-1, ind]\n",
    "            test_res = test_evals[-1, ind]\n",
    "            res[i, j] = test_res\n",
    "\n",
    "    train_acc = train_evals[-1, min_len-1:n_len].mean()\n",
    "    test_acc = train_evals[-1, min_len-1:n_len].mean()\n",
    "    res = res.mean(axis=0)\n",
    "    print(f\"{res.mean():1.0e}, {train_acc:1.0e}, {test_acc:1.0e}\")"
   ]
  },
  {
   "cell_type": "markdown",
   "metadata": {},
   "source": [
    "## Looking at the evaluation metrics"
   ]
  },
  {
   "cell_type": "code",
   "execution_count": 40,
   "metadata": {},
   "outputs": [],
   "source": [
    "checkpoint = torch.load(check_dir / 'model.pth')\n",
    "\n",
    "timestamps = checkpoint['timestamps']\n",
    "ind = timestamps != -1\n",
    "timestamps = timestamps[ind]\n",
    "\n",
    "meaning = checkpoint['meaning']\n",
    "evals = checkpoint['evals'][ind]\n",
    "\n",
    "eval_dim = evals.shape[1] // 2\n",
    "train_evals = evals[:, :eval_dim]\n",
    "test_evals = evals[:, eval_dim:]"
   ]
  },
  {
   "cell_type": "code",
   "execution_count": 46,
   "metadata": {},
   "outputs": [],
   "source": [
    "min_len = 8\n",
    "nd_meaning = np.array(meaning)\n",
    "res = np.empty((2, n_len - min_len), dtype=float)\n",
    "for i, eval_prefix in enumerate(['attn0_peaky_thres', 'attn1_peaky_thres']):\n",
    "    for j, length in enumerate(range(min_len, n_len)):\n",
    "        eval_name = f\"{eval_prefix}_{length}\"\n",
    "\n",
    "        ind = np.argmax(np.array(meaning) == eval_name)\n",
    "\n",
    "        train_res = train_evals[-1, ind]\n",
    "        test_res = test_evals[-1, ind]\n",
    "        res[i, j] = test_res\n",
    "res = res.mean(axis=0)"
   ]
  },
  {
   "cell_type": "code",
   "execution_count": 47,
   "metadata": {},
   "outputs": [
    {
     "name": "stdout",
     "output_type": "stream",
     "text": [
      "[1.         1.         1.         0.95454545 0.95833333 0.91695463\n",
      " 0.79418945 0.68349609]\n"
     ]
    }
   ],
   "source": [
    "print(res)"
   ]
  },
  {
   "cell_type": "markdown",
   "metadata": {},
   "source": [
    "## Looking at the model attention maps"
   ]
  },
  {
   "cell_type": "code",
   "execution_count": 19,
   "metadata": {},
   "outputs": [],
   "source": [
    "token_emb = checkpoint['model_state_dict']['embeddings.token_emb.weight'].cpu()\n",
    "pos_emb = checkpoint['model_state_dict']['embeddings.pos_emb.weight'].cpu()"
   ]
  },
  {
   "cell_type": "code",
   "execution_count": 22,
   "metadata": {},
   "outputs": [],
   "source": [
    "lengths = list(np.arange(n_len) + 1)\n",
    "\n",
    "if problem == 'binary-copy':\n",
    "    testset = BinaryCopy()\n",
    "elif problem == 'parity':\n",
    "    testset = Parity()\n",
    "testset.set_data(lengths, data_type=\"test\")"
   ]
  },
  {
   "cell_type": "code",
   "execution_count": 23,
   "metadata": {},
   "outputs": [
    {
     "data": {
      "text/plain": [
       "Transformer(\n",
       "  (embeddings): Embedding(\n",
       "    (token_emb): Embedding(5, 128)\n",
       "    (pos_emb): Embedding(35, 128)\n",
       "  )\n",
       "  (blocks): ModuleList(\n",
       "    (0-1): 2 x TransformerBlock(\n",
       "      (norm_1): LayerNorm((128,), eps=1e-05, elementwise_affine=True)\n",
       "      (attn): SelfAttention(\n",
       "        (qkv_mat): Linear(in_features=128, out_features=384, bias=False)\n",
       "        (output): Linear(in_features=128, out_features=128, bias=False)\n",
       "      )\n",
       "      (norm_2): LayerNorm((128,), eps=1e-05, elementwise_affine=True)\n",
       "      (ffn): FeedForward(\n",
       "        (fc1): Linear(in_features=128, out_features=512, bias=False)\n",
       "        (fc2): Linear(in_features=512, out_features=128, bias=False)\n",
       "      )\n",
       "    )\n",
       "  )\n",
       "  (output_norm): LayerNorm((128,), eps=1e-05, elementwise_affine=True)\n",
       "  (output): Linear(in_features=128, out_features=5, bias=False)\n",
       ")"
      ]
     },
     "execution_count": 23,
     "metadata": {},
     "output_type": "execute_result"
    }
   ],
   "source": [
    "config = TransformerConfig(\n",
    "    vocab_size=torch.max(testset.data).item() + 1,\n",
    "    emb_dim=emb_dim,\n",
    "    pos_emb=True,\n",
    "    seq_len=len(testset[0]),\n",
    "    emb_dropout=0,\n",
    "    n_head=n_head,\n",
    "    n_layer=n_layer,\n",
    ")\n",
    "\n",
    "model = Transformer(config)\n",
    "model.load_state_dict(checkpoint[\"model_state_dict\"])\n",
    "# model.to(device=device)\n",
    "model.eval()"
   ]
  },
  {
   "cell_type": "code",
   "execution_count": 24,
   "metadata": {},
   "outputs": [],
   "source": [
    "sequence = testset.data\n",
    "# sequence = sequence.to(device=device, dtype=torch.long)\n",
    "\n",
    "with torch.no_grad():\n",
    "    logits, attentions = model(sequence, verbose=True)"
   ]
  },
  {
   "cell_type": "markdown",
   "metadata": {},
   "source": [
    "We can extract the attention scores that we would like to maximize."
   ]
  },
  {
   "cell_type": "code",
   "execution_count": 25,
   "metadata": {},
   "outputs": [],
   "source": [
    "seq = sequence[-1]\n",
    "attn0 = attentions[0, -2, 0].cpu()\n",
    "attn1 = attentions[1, -2, 0].cpu()"
   ]
  },
  {
   "cell_type": "code",
   "execution_count": 26,
   "metadata": {},
   "outputs": [
    {
     "data": {
      "text/plain": [
       "<matplotlib.image.AxesImage at 0x7fd9707ce0f0>"
      ]
     },
     "execution_count": 26,
     "metadata": {},
     "output_type": "execute_result"
    },
    {
     "data": {
      "image/png": "[encoded data removed]",
      "text/plain": [
       "<Figure size 1000x500 with 2 Axes>"
      ]
     },
     "metadata": {},
     "output_type": "display_data"
    },
    {
     "data": {
      "image/png": "[encoded data removed]",
      "text/plain": [
       "<Figure size 1000x500 with 2 Axes>"
      ]
     },
     "metadata": {},
     "output_type": "display_data"
    }
   ],
   "source": [
    "fig, axes = plt.subplots(1, 2, figsize=(10, 5))\n",
    "axes[0].imshow(attn0)\n",
    "axes[1].imshow(attn0 > .5)\n",
    "fig, axes = plt.subplots(1, 2, figsize=(10, 5))\n",
    "axes[0].imshow(attn1)\n",
    "axes[1].imshow(attn1 > .5)"
   ]
  },
  {
   "cell_type": "code",
   "execution_count": null,
   "metadata": {},
   "outputs": [],
   "source": []
  }
 ],
 "metadata": {
  "kernelspec": {
   "display_name": "llm",
   "language": "python",
   "name": "python3"
  },
  "language_info": {
   "codemirror_mode": {
    "name": "ipython",
    "version": 3
   },
   "file_extension": ".py",
   "mimetype": "text/x-python",
   "name": "python",
   "nbconvert_exporter": "python",
   "pygments_lexer": "ipython3",
   "version": "3.12.3"
  },
  "orig_nbformat": 4
 },
 "nbformat": 4,
 "nbformat_minor": 2
}
