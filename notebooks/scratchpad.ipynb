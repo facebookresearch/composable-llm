{
 "cells": [
  {
   "cell_type": "code",
   "execution_count": 1,
   "metadata": {},
   "outputs": [],
   "source": [
    "%load_ext autoreload\n",
    "%autoreload 2"
   ]
  },
  {
   "cell_type": "code",
   "execution_count": 2,
   "metadata": {},
   "outputs": [],
   "source": [
    "import numpy as np\n",
    "import torch\n",
    "from torch.utils.data import DataLoader\n",
    "from cot.data.data_processing import Parity, BinaryCopy, Copy\n",
    "from cot.config import RAW_DIR\n",
    "\n",
    "import logging\n",
    "logging.basicConfig(level=logging.INFO)"
   ]
  },
  {
   "attachments": {},
   "cell_type": "markdown",
   "metadata": {},
   "source": [
    "## DataLoader"
   ]
  },
  {
   "cell_type": "code",
   "execution_count": 3,
   "metadata": {},
   "outputs": [],
   "source": [
    "Problem = BinaryCopy"
   ]
  },
  {
   "cell_type": "code",
   "execution_count": 4,
   "metadata": {},
   "outputs": [],
   "source": [
    "rng = np.random.default_rng()\n",
    "seq_length = 20\n",
    "max_nb_data_per_len = 1000\n",
    "random = False\n",
    "split_probas_by_len =  [1, 1, 1, 1, .9, .8, .9, .3, .2]\n",
    "probas_by_len = np.array([1, 1, 1, 1, 1, 1, 1, 1, 1]).astype(float)\n",
    "probas_by_len /= probas_by_len.sum()\n",
    "\n",
    "lengths = list(np.arange(len(split_probas_by_len)) + 1)"
   ]
  },
  {
   "cell_type": "code",
   "execution_count": 5,
   "metadata": {},
   "outputs": [
    {
     "name": "stderr",
     "output_type": "stream",
     "text": [
      "INFO:cot.data.data_processing:Sequences of length 1 done. Saved in /home/vivc/Code/llm/Compositionality/data/raw/binary_copy (2/2 split).\n",
      "INFO:cot.data.data_processing:Sequences of length 2 done. Saved in /home/vivc/Code/llm/Compositionality/data/raw/binary_copy (4/4 split).\n",
      "INFO:cot.data.data_processing:Sequences of length 3 done. Saved in /home/vivc/Code/llm/Compositionality/data/raw/binary_copy (8/8 split).\n",
      "INFO:cot.data.data_processing:Sequences of length 4 done. Saved in /home/vivc/Code/llm/Compositionality/data/raw/binary_copy (16/16 split).\n",
      "INFO:cot.data.data_processing:Sequences of length 5 done. Saved in /home/vivc/Code/llm/Compositionality/data/raw/binary_copy (28/32 split).\n",
      "INFO:cot.data.data_processing:Sequences of length 6 done. Saved in /home/vivc/Code/llm/Compositionality/data/raw/binary_copy (51/64 split).\n",
      "INFO:cot.data.data_processing:Sequences of length 7 done. Saved in /home/vivc/Code/llm/Compositionality/data/raw/binary_copy (115/128 split).\n",
      "INFO:cot.data.data_processing:Sequences of length 8 done. Saved in /home/vivc/Code/llm/Compositionality/data/raw/binary_copy (76/256 split).\n",
      "INFO:cot.data.data_processing:Sequences of length 9 done. Saved in /home/vivc/Code/llm/Compositionality/data/raw/binary_copy (102/512 split).\n",
      "INFO:cot.data.data_processing:Loading training data.\n",
      "INFO:cot.data.data_processing:Setting sampler.\n",
      "INFO:cot.data.data_processing:Loading test data for binary_copy problem.\n"
     ]
    }
   ],
   "source": [
    "if Problem.prefix == 'copy':\n",
    "    Problem(vocab_size=20)\n",
    "\n",
    "Problem.generate_datafiles(max_nb_data_per_len, split_probas_by_len, rng)\n",
    "\n",
    "trainset = Problem()\n",
    "trainset.set_as_trainset(lengths, probas_by_len)\n",
    "\n",
    "testset = Problem()\n",
    "testset.set_as_testset(lengths)"
   ]
  },
  {
   "cell_type": "code",
   "execution_count": 8,
   "metadata": {},
   "outputs": [],
   "source": [
    "loader = DataLoader(trainset, batch_size=32, sampler=trainset.sampler)"
   ]
  },
  {
   "attachments": {},
   "cell_type": "markdown",
   "metadata": {},
   "source": [
    "## Training loop: TODO"
   ]
  },
  {
   "cell_type": "code",
   "execution_count": 9,
   "metadata": {},
   "outputs": [
    {
     "name": "stdout",
     "output_type": "stream",
     "text": [
      "tensor([[ 1,  0,  0,  2,  1,  0,  0, -1, -1, -1, -1, -1, -1, -1, -1, -1, -1, -1,\n",
      "         -1, -1],\n",
      "        [ 0,  1,  0,  1,  1,  0,  0,  2,  0,  1,  0,  1,  1,  0,  0, -1, -1, -1,\n",
      "         -1, -1],\n",
      "        [ 0,  0,  0,  1,  1,  1,  1,  1,  1,  2,  0,  0,  0,  1,  1,  1,  1,  1,\n",
      "          1, -1],\n",
      "        [ 0,  1,  0,  2,  0,  1,  0, -1, -1, -1, -1, -1, -1, -1, -1, -1, -1, -1,\n",
      "         -1, -1],\n",
      "        [ 1,  1,  1,  0,  1,  0,  2,  1,  1,  1,  0,  1,  0, -1, -1, -1, -1, -1,\n",
      "         -1, -1],\n",
      "        [ 1,  0,  1,  1,  2,  1,  0,  1,  1, -1, -1, -1, -1, -1, -1, -1, -1, -1,\n",
      "         -1, -1],\n",
      "        [ 1,  0,  1,  2,  1,  0,  1, -1, -1, -1, -1, -1, -1, -1, -1, -1, -1, -1,\n",
      "         -1, -1],\n",
      "        [ 1,  2,  1, -1, -1, -1, -1, -1, -1, -1, -1, -1, -1, -1, -1, -1, -1, -1,\n",
      "         -1, -1],\n",
      "        [ 1,  2,  1, -1, -1, -1, -1, -1, -1, -1, -1, -1, -1, -1, -1, -1, -1, -1,\n",
      "         -1, -1],\n",
      "        [ 0,  0,  0,  1,  0,  0,  0,  2,  0,  0,  0,  1,  0,  0,  0, -1, -1, -1,\n",
      "         -1, -1],\n",
      "        [ 0,  2,  0, -1, -1, -1, -1, -1, -1, -1, -1, -1, -1, -1, -1, -1, -1, -1,\n",
      "         -1, -1],\n",
      "        [ 0,  1,  0,  0,  0,  1,  0,  1,  2,  0,  1,  0,  0,  0,  1,  0,  1, -1,\n",
      "         -1, -1],\n",
      "        [ 0,  1,  2,  0,  1, -1, -1, -1, -1, -1, -1, -1, -1, -1, -1, -1, -1, -1,\n",
      "         -1, -1],\n",
      "        [ 1,  1,  0,  0,  0,  1,  2,  1,  1,  0,  0,  0,  1, -1, -1, -1, -1, -1,\n",
      "         -1, -1],\n",
      "        [ 1,  0,  1,  1,  0,  1,  0,  1,  0,  2,  1,  0,  1,  1,  0,  1,  0,  1,\n",
      "          0, -1],\n",
      "        [ 1,  1,  1,  0,  0,  0,  0,  0,  2,  1,  1,  1,  0,  0,  0,  0,  0, -1,\n",
      "         -1, -1],\n",
      "        [ 0,  0,  0,  1,  1,  1,  0,  1,  0,  2,  0,  0,  0,  1,  1,  1,  0,  1,\n",
      "          0, -1],\n",
      "        [ 0,  1,  0,  0,  0,  1,  0,  2,  0,  1,  0,  0,  0,  1,  0, -1, -1, -1,\n",
      "         -1, -1],\n",
      "        [ 0,  0,  1,  1,  0,  0,  0,  1,  2,  0,  0,  1,  1,  0,  0,  0,  1, -1,\n",
      "         -1, -1],\n",
      "        [ 1,  1,  2,  1,  1, -1, -1, -1, -1, -1, -1, -1, -1, -1, -1, -1, -1, -1,\n",
      "         -1, -1],\n",
      "        [ 1,  0,  1,  0,  0,  1,  2,  1,  0,  1,  0,  0,  1, -1, -1, -1, -1, -1,\n",
      "         -1, -1],\n",
      "        [ 0,  0,  0,  1,  1,  1,  0,  0,  2,  0,  0,  0,  1,  1,  1,  0,  0, -1,\n",
      "         -1, -1],\n",
      "        [ 1,  1,  1,  0,  1,  1,  0,  2,  1,  1,  1,  0,  1,  1,  0, -1, -1, -1,\n",
      "         -1, -1],\n",
      "        [ 0,  1,  2,  0,  1, -1, -1, -1, -1, -1, -1, -1, -1, -1, -1, -1, -1, -1,\n",
      "         -1, -1],\n",
      "        [ 1,  1,  0,  0,  0,  2,  1,  1,  0,  0,  0, -1, -1, -1, -1, -1, -1, -1,\n",
      "         -1, -1],\n",
      "        [ 1,  1,  0,  0,  1,  0,  1,  0,  2,  1,  1,  0,  0,  1,  0,  1,  0, -1,\n",
      "         -1, -1],\n",
      "        [ 0,  1,  1,  0,  1,  0,  0,  2,  0,  1,  1,  0,  1,  0,  0, -1, -1, -1,\n",
      "         -1, -1],\n",
      "        [ 0,  0,  1,  1,  2,  0,  0,  1,  1, -1, -1, -1, -1, -1, -1, -1, -1, -1,\n",
      "         -1, -1],\n",
      "        [ 0,  1,  1,  0,  2,  0,  1,  1,  0, -1, -1, -1, -1, -1, -1, -1, -1, -1,\n",
      "         -1, -1],\n",
      "        [ 0,  1,  1,  1,  0,  1,  1,  2,  0,  1,  1,  1,  0,  1,  1, -1, -1, -1,\n",
      "         -1, -1],\n",
      "        [ 1,  2,  1, -1, -1, -1, -1, -1, -1, -1, -1, -1, -1, -1, -1, -1, -1, -1,\n",
      "         -1, -1],\n",
      "        [ 1,  2,  1, -1, -1, -1, -1, -1, -1, -1, -1, -1, -1, -1, -1, -1, -1, -1,\n",
      "         -1, -1]], dtype=torch.int32)\n"
     ]
    }
   ],
   "source": [
    "for batch in loader:\n",
    "    print(batch)\n",
    "    break"
   ]
  },
  {
   "cell_type": "code",
   "execution_count": null,
   "metadata": {},
   "outputs": [],
   "source": []
  }
 ],
 "metadata": {
  "kernelspec": {
   "display_name": "llm",
   "language": "python",
   "name": "python3"
  },
  "language_info": {
   "codemirror_mode": {
    "name": "ipython",
    "version": 3
   },
   "file_extension": ".py",
   "mimetype": "text/x-python",
   "name": "python",
   "nbconvert_exporter": "python",
   "pygments_lexer": "ipython3",
   "version": "3.12.3"
  },
  "orig_nbformat": 4
 },
 "nbformat": 4,
 "nbformat_minor": 2
}
